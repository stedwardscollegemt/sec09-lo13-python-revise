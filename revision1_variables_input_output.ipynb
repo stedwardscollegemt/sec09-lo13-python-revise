{
 "cells": [
  {
   "cell_type": "markdown",
   "id": "20921ce1",
   "metadata": {},
   "source": [
    "## Revision 1: Variables, Input, Output\n",
    "\n",
    "This notebook covers **variables, input, and output** for Year 11 Python revision.\n",
    "\n",
    "---\n",
    "\n",
    "### 1. Introduction\n",
    "\n",
    "**Variables:**\n",
    "- A variable stores data values.\n",
    "- Example: `x = 10`\n",
    "\n",
    "**Input:**\n",
    "- `input()` is used to capture user input.\n",
    "- Example: `name = input(\"Enter your name: \")`\n",
    "\n",
    "**Output:**\n",
    "- `print()` is used to display output.\n",
    "- Example: `print(\"Hello\", name)`\n",
    "\n",
    "### 2. Code Examples"
   ]
  },
  {
   "cell_type": "code",
   "execution_count": 2,
   "id": "dbe9bda6",
   "metadata": {},
   "outputs": [
    {
     "name": "stdout",
     "output_type": "stream",
     "text": [
      "Hello, world!\n",
      "Welcome to Python revision.\n"
     ]
    }
   ],
   "source": [
    "# Example 1: Simple Output\n",
    "\n",
    "print(\"Hello, world!\")\n",
    "print(\"Welcome to Python revision.\")"
   ]
  },
  {
   "cell_type": "code",
   "execution_count": 3,
   "id": "4621feb3",
   "metadata": {},
   "outputs": [
    {
     "name": "stdout",
     "output_type": "stream",
     "text": [
      "Name: Alex\n",
      "Age: 16\n"
     ]
    }
   ],
   "source": [
    "# Example 2: Variables\n",
    "\n",
    "name = \"Alex\"\n",
    "age = 16\n",
    "print(\"Name:\", name)\n",
    "print(\"Age:\", age)"
   ]
  },
  {
   "cell_type": "code",
   "execution_count": 2,
   "id": "7c71e557",
   "metadata": {},
   "outputs": [
    {
     "name": "stdout",
     "output_type": "stream",
     "text": [
      "Hello Erika\n"
     ]
    }
   ],
   "source": [
    "# Example 3: Input\n",
    "\n",
    "user_name = input(\"What is your name? \")\n",
    "print(\"Hello\", user_name)"
   ]
  },
  {
   "cell_type": "code",
   "execution_count": 3,
   "id": "b9bf105b",
   "metadata": {},
   "outputs": [
    {
     "name": "stdout",
     "output_type": "stream",
     "text": [
      "You are 16 years old.\n"
     ]
    }
   ],
   "source": [
    "# Example 4: Formatted Output\n",
    "\n",
    "age = 16\n",
    "print(f\"You are {age} years old.\")"
   ]
  },
  {
   "cell_type": "markdown",
   "id": "d9372469",
   "metadata": {},
   "source": [
    "### 3. Quick Exercises\n",
    "\n",
    "**Exercise 1:** Predict the output.\n",
    "```python\n",
    "x = 3\n",
    "y = 2\n",
    "print(x * y)"
   ]
  },
  {
   "cell_type": "markdown",
   "id": "bc575b0c",
   "metadata": {},
   "source": [
    "**Exercise 2:** Change the values of `x` and `y` to `5` and `10`, then `print` their sum.\n",
    "\n"
   ]
  },
  {
   "cell_type": "code",
   "execution_count": null,
   "id": "b7e26f00",
   "metadata": {},
   "outputs": [],
   "source": [
    "# TODO: Exercise 2"
   ]
  },
  {
   "cell_type": "markdown",
   "id": "fd2b3c3f",
   "metadata": {},
   "source": [
    "**Exercise 3:** Ask the user for two numbers, add them, and print the result."
   ]
  },
  {
   "cell_type": "code",
   "execution_count": null,
   "id": "3a417498",
   "metadata": {},
   "outputs": [],
   "source": [
    "# TODO: Exercise 3"
   ]
  },
  {
   "cell_type": "markdown",
   "id": "772ce922",
   "metadata": {},
   "source": [
    "\n",
    "### 4. Quiz\n",
    "\n",
    "**Q1:** What is the output of `print(\"Hi\" + \"There\")`?\n",
    "- A) Hi There  \n",
    "- B) HiThere\n",
    "- C) Hi + There  \n",
    "- D) Error  \n",
    "\n",
    "**Q2:** Which line correctly stores the number 5 in `x`?  \n",
    "- A) `let x = 5`  \n",
    "- B) `x == 5`  \n",
    "- C) `x = 5`\n",
    "- D) `x: 5`  \n",
    "\n",
    "**Q3:** Which function is used for input in Python?  \n",
    "- A) `read()`  \n",
    "- B) `input()`  \n",
    "- C) `scan()`  \n",
    "- D) `get()`  \n",
    "\n",
    "**Q4:** What does `print(\"Hello\", \"World\")` output?  \n",
    "- A) HelloWorld  \n",
    "- B) Hello World \n",
    "- C) Hello,World  \n",
    "- D) Hello + World  \n",
    "\n",
    "**Q5:** What is printed by `print(\"Age: {}\".format(15))`?  \n",
    "- A) Age: 15 \n",
    "- B) Age 15  \n",
    "- C) 15 Age  \n",
    "- D) Error  "
   ]
  },
  {
   "cell_type": "markdown",
   "id": "997bf499",
   "metadata": {},
   "source": [
    "### 5. Challenges\n",
    "\n",
    "**Challenge 1:** Ask for the user's name and age, then print:  \n",
    "`Hello [name], you are [age] years old.`\n",
    "\n",
    "**Challenge 2:** Ask the user for a number and display the next number."
   ]
  },
  {
   "cell_type": "code",
   "execution_count": null,
   "id": "8d14587e",
   "metadata": {},
   "outputs": [],
   "source": [
    "# TODO: Challenges"
   ]
  }
 ],
 "metadata": {
  "kernelspec": {
   "display_name": ".venv",
   "language": "python",
   "name": "python3"
  },
  "language_info": {
   "codemirror_mode": {
    "name": "ipython",
    "version": 3
   },
   "file_extension": ".py",
   "mimetype": "text/x-python",
   "name": "python",
   "nbconvert_exporter": "python",
   "pygments_lexer": "ipython3",
   "version": "3.11.9"
  }
 },
 "nbformat": 4,
 "nbformat_minor": 5
}
