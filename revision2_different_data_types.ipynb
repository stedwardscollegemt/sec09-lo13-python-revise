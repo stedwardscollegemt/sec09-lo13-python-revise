{
 "cells": [
  {
   "cell_type": "markdown",
   "id": "aca64af6",
   "metadata": {},
   "source": [
    "## Revision 2: Different Data Types\n",
    "\n",
    "This notebook covers **variables, type conversion functions, arithmetic operators and assignment operators** for Year 11 Python revision.\n",
    "\n",
    "---\n",
    "\n",
    "### 1. Different Data Types in Python\n",
    "\n",
    "- **int**: whole numbers (e.g. 5, -3)  \n",
    "- **float**: decimal numbers (e.g. 3.14, -0.5)  \n",
    "- **str**: strings or text (e.g. \\\"hello\\\", \\\"123\\\")  \n",
    "- **bool**: Boolean values `True` or `False`\n",
    "\n",
    "Python automatically assigns a data type when you create a variable."
   ]
  },
  {
   "cell_type": "code",
   "execution_count": 1,
   "id": "56965e2c",
   "metadata": {},
   "outputs": [
    {
     "name": "stdout",
     "output_type": "stream",
     "text": [
      "<class 'int'>\n",
      "<class 'float'>\n",
      "<class 'str'>\n",
      "<class 'bool'>\n"
     ]
    }
   ],
   "source": [
    "# Examples of different data types\n",
    "\n",
    "x = 10          # int\n",
    "y = 3.14        # float\n",
    "name = \"Alice\"  # str\n",
    "is_happy = True # bool\n",
    "\n",
    "print(type(x))     # <class 'int'>\n",
    "print(type(y))     # <class 'float'>\n",
    "print(type(name))  # <class 'str'>\n",
    "print(type(is_happy))  # <class 'bool'>"
   ]
  },
  {
   "cell_type": "markdown",
   "id": "9f9f119b",
   "metadata": {},
   "source": [
    "### 2. Type Conversion Functions\n",
    "\n",
    "- `int()` converts a value to an integer  \n",
    "- `float()` converts a value to a floating-point number  \n",
    "- `str()` converts a value to a string  \n",
    "- `bool()` converts a value to a Boolean  \n",
    "\n",
    "These are useful when input is taken as a string but you need a number."
   ]
  },
  {
   "cell_type": "code",
   "execution_count": 2,
   "id": "2294687f",
   "metadata": {},
   "outputs": [
    {
     "name": "stdout",
     "output_type": "stream",
     "text": [
      "25 <class 'str'>\n",
      "25 <class 'int'>\n",
      "25.0 <class 'float'>\n"
     ]
    }
   ],
   "source": [
    "num_str = \"25\"\n",
    "num_int = int(num_str)\n",
    "num_float = float(num_str)\n",
    "\n",
    "print(num_str, type(num_str))\n",
    "print(num_int, type(num_int))\n",
    "print(num_float, type(num_float))"
   ]
  },
  {
   "cell_type": "code",
   "execution_count": 3,
   "id": "2744f000",
   "metadata": {},
   "outputs": [
    {
     "name": "stdout",
     "output_type": "stream",
     "text": [
      "Next year, you will be 35\n"
     ]
    }
   ],
   "source": [
    "age_str = input(\"Enter your age: \")\n",
    "age = int(age_str)  # convert string input to int\n",
    "print(\"Next year, you will be\", age + 1)"
   ]
  },
  {
   "cell_type": "markdown",
   "id": "8fd9f406",
   "metadata": {},
   "source": [
    "### 3. Arithmetic Operations\n",
    "\n",
    "- Addition: `+`  \n",
    "- Subtraction: `-`  \n",
    "- Multiplication: `*`  \n",
    "- Division: `/` (always returns float)  \n",
    "- Floor division: `//` (returns integer part)  \n",
    "- Modulus: `%` (remainder)  \n",
    "- Exponentiation: `**` (power)"
   ]
  },
  {
   "cell_type": "code",
   "execution_count": 4,
   "id": "278cb25a",
   "metadata": {},
   "outputs": [
    {
     "name": "stdout",
     "output_type": "stream",
     "text": [
      "a + b = 13\n",
      "a - b = 7\n",
      "a * b = 30\n",
      "a / b = 3.3333333333333335\n",
      "a // b = 3\n",
      "a % b = 1\n",
      "a ** b = 1000\n"
     ]
    }
   ],
   "source": [
    "a = 10\n",
    "b = 3\n",
    "\n",
    "print(\"a + b =\", a + b)\n",
    "print(\"a - b =\", a - b)\n",
    "print(\"a * b =\", a * b)\n",
    "print(\"a / b =\", a / b)\n",
    "print(\"a // b =\", a // b)\n",
    "print(\"a % b =\", a % b)\n",
    "print(\"a ** b =\", a ** b)"
   ]
  },
  {
   "cell_type": "markdown",
   "id": "bb7ca458",
   "metadata": {},
   "source": [
    "### 4. Assignment Operators\n",
    "\n",
    "- `=` : assigns value  \n",
    "- `+=` : adds right operand to left and assigns result  \n",
    "- `-=` : subtracts right operand from left and assigns result  \n",
    "- `*=` : multiplies left operand by right and assigns result  \n",
    "- `/=` : divides left operand by right and assigns result  \n",
    "- `%=` : modulus assignment  \n",
    "- `**=` : exponentiation assignment  "
   ]
  },
  {
   "cell_type": "code",
   "execution_count": 5,
   "id": "e77b128f",
   "metadata": {},
   "outputs": [
    {
     "name": "stdout",
     "output_type": "stream",
     "text": [
      "Initial x = 5\n",
      "After x += 3: 8\n",
      "After x *= 2: 16\n",
      "After x -= 4: 12\n",
      "After x /= 2: 6.0\n"
     ]
    }
   ],
   "source": [
    "x = 5\n",
    "print(\"Initial x =\", x)\n",
    "\n",
    "x += 3\n",
    "print(\"After x += 3:\", x)\n",
    "\n",
    "x *= 2\n",
    "print(\"After x *= 2:\", x)\n",
    "\n",
    "x -= 4\n",
    "print(\"After x -= 4:\", x)\n",
    "\n",
    "x /= 2\n",
    "print(\"After x /= 2:\", x)"
   ]
  },
  {
   "cell_type": "markdown",
   "id": "0e69536b",
   "metadata": {},
   "source": [
    "### 5. Quick Exercises\n",
    "\n",
    "1. What will the following print?  \n",
    "```python\n",
    "x = 7\n",
    "x += 2\n",
    "print(x)\n",
    "```\n",
    "\n",
    "2. Convert the string \"123.45\" to a float and add 1.55. Print the result.\n",
    "\n",
    "3. Predict the output:\n",
    "\n",
    "```python\n",
    "a = 15\n",
    "b = 4\n",
    "print(a // b)\n",
    "print(a % b)\n",
    "```\n",
    "\n",
    "4. Write a code snippet that asks for two numbers, multiplies them, and prints the result.\n"
   ]
  },
  {
   "cell_type": "code",
   "execution_count": null,
   "id": "52be0148",
   "metadata": {},
   "outputs": [],
   "source": [
    "# TODO: Quick code exercises"
   ]
  },
  {
   "cell_type": "markdown",
   "id": "a65529b2",
   "metadata": {},
   "source": [
    "### 5. Quiz Section\n",
    "\n",
    "**Q1:** What is the data type of `3.0` in Python?  \n",
    "- A) `int`  \n",
    "- B) `float`\n",
    "- C) `str`  \n",
    "- D) `bool`\n",
    "\n",
    "**Q2:** What will `int(\"12.5\")` do?  \n",
    "- A) Convert to integer 12  \n",
    "- B) Convert to float 12.5  \n",
    "- C) Cause an error\n",
    "- D) Convert to string \"12.5\"\n",
    "\n",
    "**Q3:** Which operator performs integer division?  \n",
    "- A) `/`  \n",
    "- B) `//`\n",
    "- C) `%`  \n",
    "- D) `**`\n",
    "\n",
    "**Q4:** What will this print?  \n",
    "```python\n",
    "x = 10\n",
    "x += 5\n",
    "print(x)\n",
    "```\n",
    "- A) 5  \n",
    "- B) 10\n",
    "- C) 15 \n",
    "- D) Error\n",
    "\n",
    "**Q5:** Which function converts a string to a float?\n",
    "- A) `int()`  \n",
    "- B) `str()`\n",
    "- C) `float()`  \n",
    "- D) `bool()`\n",
    "\n",
    "**Q6:** What does the % operator do?\n",
    "- A) Divides two numbers \n",
    "- B) Calculates the remainder\n",
    "- C) Raises the number to a power\n",
    "- D) Adds two numbers"
   ]
  },
  {
   "cell_type": "markdown",
   "id": "ff024c5e",
   "metadata": {},
   "source": [
    "### 6. Challenges\n",
    "\n",
    "**Challenge 1:**  \n",
    "Ask the user for their current age (input as string), convert it to int, and print how old they will be in 10 years.\n",
    "\n",
    "**Challenge 2:**  \n",
    "Write a program that uses an assignment operator to double a number input by the user and print the result.\n"
   ]
  },
  {
   "cell_type": "code",
   "execution_count": null,
   "id": "9139f1b1",
   "metadata": {},
   "outputs": [],
   "source": [
    "# TODO: Challenges"
   ]
  }
 ],
 "metadata": {
  "kernelspec": {
   "display_name": ".venv",
   "language": "python",
   "name": "python3"
  },
  "language_info": {
   "codemirror_mode": {
    "name": "ipython",
    "version": 3
   },
   "file_extension": ".py",
   "mimetype": "text/x-python",
   "name": "python",
   "nbconvert_exporter": "python",
   "pygments_lexer": "ipython3",
   "version": "3.11.9"
  }
 },
 "nbformat": 4,
 "nbformat_minor": 5
}
