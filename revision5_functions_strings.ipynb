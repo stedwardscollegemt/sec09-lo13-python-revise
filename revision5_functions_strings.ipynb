{
 "cells": [
  {
   "cell_type": "markdown",
   "id": "7a20a46f",
   "metadata": {},
   "source": [
    "### Revision 4: Functions and Strings\n",
    "\n",
    "This notebook covers loops (iteration statements) for Year 11 Python revision.\n",
    "\n",
    "---\n",
    "\n",
    "#### 1. Introduction\n",
    "\n",
    "In Python, functions help organize code into reusable blocks. Strings are sequences of characters with useful built-in functions.\n",
    "\n",
    "#### 2. Built-in vs User-defined Functions\n",
    "\n",
    "**Built-in Functions**\n",
    "\n",
    "These are provided by Python and can be used directly. Examples: `print()`, `len()`, `int()`, `str()`, `range()`.\n",
    "A comprehensive list of built-in functions can be found in the [Python Docs](https://docs.python.org/3/library/functions.html)."
   ]
  },
  {
   "cell_type": "code",
   "execution_count": null,
   "id": "56ff3fc2",
   "metadata": {},
   "outputs": [
    {
     "name": "stdout",
     "output_type": "stream",
     "text": [
      "6\n",
      "1, 2, 3, 4, 5, 6, 7, 8, 9, 10, "
     ]
    }
   ],
   "source": [
    "# Try out some built-in function examples (we have used most of these in previous sessions)\n",
    "\n",
    "val_type = type(1) # gives the type of a value\n",
    "str_num = int(\"9\") # converts from a string to an integer\n",
    "len_str = len(\"Python\") # gives the length of a string\n",
    "my_range = range(1, 11) # gives a sequence of numbers within a range that we can loop through\n",
    "\n",
    "\n",
    "print(len_str) # displays an object\n",
    "\n",
    "for num in my_range:\n",
    "    print(num, end=\", \") # the print function has many options which we can use to format our output"
   ]
  },
  {
   "cell_type": "markdown",
   "id": "51d437c8",
   "metadata": {},
   "source": [
    "**User-defined Functions**\n",
    "\n",
    "These are functions that we create in our programs by making use of the `def` keyword. We only need to *define* a function once (at the top of our program) and we can use it many times. We normally write short functions that just do one specific task.\n",
    "\n",
    "```python\n",
    "def greet():\n",
    "    print(\"Hello, welcome to Python revision.\")\n",
    "\n",
    "greet()\n",
    "```"
   ]
  },
  {
   "cell_type": "markdown",
   "id": "5ca0accf",
   "metadata": {},
   "source": [
    "#### 3. Functions with Parameters and Return Values\n",
    "\n",
    "Functions are sub-programs which can take inputs in the form of parameters in `()` and send back *outputs*  in the form of `return` values.\n",
    "\n",
    "A simple example:\n",
    "\n",
    "```python\n",
    "def add(a, b):\n",
    "    sum = a + b\n",
    "    return sum\n",
    "\n",
    "# usage:\n",
    "result = add(5, 3)\n",
    "print(\"Sum is:\", result)\n",
    "```\n",
    "\n",
    "Generally functions do very simple tasks, however, it is possible to include more complex control and flow inside a function.\n",
    "\n",
    "```python\n",
    "def check_password(user_password, confirm_password):\n",
    "    if (user_password == confirm_password):\n",
    "        print('Ok.')\n",
    "    else:\n",
    "        print('Passwords do not match.')\n",
    "\n",
    "# usage:\n",
    "user_password = input(\"Enter new password: \")\n",
    "confirm_password = input(\"Confirm new password: \")\n",
    "check_password(user_password, confirm_password)\n",
    "```"
   ]
  },
  {
   "cell_type": "code",
   "execution_count": null,
   "id": "be33450a",
   "metadata": {},
   "outputs": [],
   "source": [
    "# TODO: practice writing or copying a function from the notes"
   ]
  },
  {
   "cell_type": "markdown",
   "id": "80062cd0",
   "metadata": {},
   "source": [
    "#### 4. String Functions\n",
    "\n",
    "Python Strings are very powerful and come with a lot of useful *built-in* functions. The following are some handy examples you should know about:\n",
    "\n",
    "- `len()` — length of string\n",
    "- `upper()` — convert to uppercase\n",
    "- `lower()` — convert to lowercase\n",
    "- `count(substr)` — count occurrences of a pattern\n",
    "- `replace(old, new)` – replace old text with new text inside a string\n",
    "\n",
    "**Note: Operations on Strings**\n",
    "\n",
    "Aside from built-in functions, you can also use operators like `+` or `*` to create string variables easily. Why not try them out and see what they do?\n",
    "\n",
    "```python\n",
    "\n",
    "# joining strings together using + (concatenation)\n",
    "foo = \"foo\"\n",
    "bar = \"bar\"\n",
    "foobar = foo + bar\n",
    "print(foobar)\n",
    "\n",
    "# repeating a string using *\n",
    "lives = 6\n",
    "print(\"* \" * 6)\n",
    "```"
   ]
  },
  {
   "cell_type": "code",
   "execution_count": null,
   "id": "1df3a35d",
   "metadata": {},
   "outputs": [],
   "source": [
    "text = \"hello world\"\n",
    "print(text.upper())\n",
    "print(text.replace(\"world\", \"Python\"))\n",
    "print(\"Number of 'l's:\", text.count('l'))"
   ]
  },
  {
   "cell_type": "code",
   "execution_count": 10,
   "id": "71926edf",
   "metadata": {},
   "outputs": [
    {
     "name": "stdout",
     "output_type": "stream",
     "text": [
      "lives:  * * * * * * \n"
     ]
    }
   ],
   "source": [
    "lives = 6\n",
    "print(\"lives: \", \"* \" * lives)\n"
   ]
  },
  {
   "cell_type": "markdown",
   "id": "a12384ee",
   "metadata": {},
   "source": [
    "Knowing about the `*` operator on strings would have been useful last time:\n",
    "\n",
    "```python\n",
    "for i in range(1, 5):\n",
    "    print(\"*\" * i)\n",
    "    print(\"\") # a new empty line\n",
    "```"
   ]
  },
  {
   "cell_type": "code",
   "execution_count": 8,
   "id": "570d68b0",
   "metadata": {},
   "outputs": [
    {
     "name": "stdout",
     "output_type": "stream",
     "text": [
      "* \n",
      "\n",
      "* * \n",
      "\n",
      "* * * \n",
      "\n",
      "* * * * \n",
      "\n"
     ]
    }
   ],
   "source": [
    "for i in range(1, 5):\n",
    "    print(\"* \" * i)\n",
    "    print(\"\") # a new empty line"
   ]
  },
  {
   "cell_type": "markdown",
   "id": "1c494a41",
   "metadata": {},
   "source": [
    "#### 5. Quick Exercises\n",
    "\n",
    "1. Use a built-in function to find the length of your name.\n",
    "\n",
    "2. Create a user-defined function called square(num) that returns the square of a number.\n",
    "\n",
    "3. Write a function full_name(first, last) that prints your full name"
   ]
  },
  {
   "cell_type": "code",
   "execution_count": null,
   "id": "10fb4679",
   "metadata": {},
   "outputs": [],
   "source": [
    "# TODO: Playground for code exercises\n"
   ]
  },
  {
   "cell_type": "markdown",
   "id": "ce721266",
   "metadata": {},
   "source": [
    "#### 6. Quiz\n",
    "\n",
    "**Q1:** Which of the following is a built-in function?\n",
    "\n",
    "- A) `greet()`\n",
    "- B) `print()` \n",
    "- C) `hello_world()`\n",
    "- D) `my_function()`\n",
    "\n",
    "**Q2:** How do you define a function in Python?\n",
    "\n",
    "- A) `func name():`\n",
    "- B) `define name():`\n",
    "- C) `def name():`\n",
    "- D) `create name():`\n",
    "\n",
    "**Q3:** What will this output?\n",
    "\n",
    "```python\n",
    "def add(a, b):\n",
    "    return a ** b\n",
    "print(add(2, 3))\n",
    "```\n",
    "- A) 23\n",
    "- B) 5\n",
    "- C) 8\n",
    "- D) 2 ** 3\n",
    "\n",
    "**Q4:** What is the output of this code?\n",
    "\n",
    "```python\n",
    "text = \"Python\"\n",
    "print(text.lower())\n",
    "```\n",
    "\n",
    "- A) PYTHON\n",
    "- B) Python\n",
    "- C) PyThOn\n",
    "- D) python"
   ]
  },
  {
   "cell_type": "markdown",
   "id": "66eafc43",
   "metadata": {},
   "source": [
    "#### 7. Challenges\n",
    "\n",
    "**Challenge 1:** Write a user-defined function `multiply(x, y)` that returns the product of two numbers.\n",
    "\n",
    "**Challenge 2:** Create a function that takes a string and returns it reversed.\n",
    "\n",
    "**Challenge 3:** Write a function `count_vowels` that accepts a string as a parameters and returns the number of vowels in it.\n",
    "\n",
    "**Challenge 4:** Write a program that:\n",
    "- Asks the user for their name.\n",
    "- Uses a function to greet them with their name in uppercase."
   ]
  },
  {
   "cell_type": "code",
   "execution_count": null,
   "id": "d32a8cda",
   "metadata": {},
   "outputs": [],
   "source": [
    "# TODO: Code your challenges"
   ]
  }
 ],
 "metadata": {
  "kernelspec": {
   "display_name": ".venv",
   "language": "python",
   "name": "python3"
  },
  "language_info": {
   "codemirror_mode": {
    "name": "ipython",
    "version": 3
   },
   "file_extension": ".py",
   "mimetype": "text/x-python",
   "name": "python",
   "nbconvert_exporter": "python",
   "pygments_lexer": "ipython3",
   "version": "3.11.9"
  }
 },
 "nbformat": 4,
 "nbformat_minor": 5
}
