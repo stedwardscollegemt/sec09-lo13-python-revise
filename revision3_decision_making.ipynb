{
 "cells": [
  {
   "cell_type": "markdown",
   "id": "9bcfb47e",
   "metadata": {},
   "source": [
    "## Revision 3: Decision Making\n",
    "\n",
    "In this notebook we will **interpret decision statements (`if`, `if-else`)** and look into **nested decision statements** for Year 11 Python revision.\n",
    "\n",
    "---\n",
    "\n",
    "### 1. Decision Statements in Python\n",
    "\n",
    "Decision statements allow a program to make choices based on conditions.\n",
    "\n",
    "- `if` tests a condition and runs code if the condition is `True`.\n",
    "- `else` runs code if the `if` condition is `False`.\n",
    "- `elif` (else if) tests additional conditions if the previous ones were false.\n",
    "\n",
    "Syntax example:\n",
    "\n",
    "```python\n",
    "if condition:\n",
    "    # do something\n",
    "elif another_condition:\n",
    "    # do something else\n",
    "else:\n",
    "    # do something if all above are False"
   ]
  },
  {
   "cell_type": "code",
   "execution_count": 1,
   "id": "5d0649be",
   "metadata": {},
   "outputs": [
    {
     "name": "stdout",
     "output_type": "stream",
     "text": [
      "You are too young to vote.\n"
     ]
    }
   ],
   "source": [
    "age = 15\n",
    "if age >= 18:\n",
    "    print(\"You can vote.\")\n",
    "else:\n",
    "    print(\"You are too young to vote.\")"
   ]
  },
  {
   "cell_type": "code",
   "execution_count": 2,
   "id": "8e6e282b",
   "metadata": {},
   "outputs": [
    {
     "name": "stdout",
     "output_type": "stream",
     "text": [
      "Grade: B\n"
     ]
    }
   ],
   "source": [
    "score = 75\n",
    "\n",
    "if score >= 90:\n",
    "    print(\"Grade: A\")\n",
    "elif score >= 70:\n",
    "    print(\"Grade: B\")\n",
    "elif score >= 50:\n",
    "    print(\"Grade: C\")\n",
    "else:\n",
    "    print(\"Grade: F\")"
   ]
  },
  {
   "cell_type": "markdown",
   "id": "8f2003a3",
   "metadata": {},
   "source": [
    "### 2. Nested Decision Statements\n",
    "\n",
    "Decision statements can be placed inside each other.\n",
    "\n",
    "Example:\n",
    "\n",
    "```python\n",
    "num = 10\n",
    "if num > 0:\n",
    "    if num % 2 == 0:\n",
    "        print(\"Positive even number\")\n",
    "    else:\n",
    "        print(\"Positive odd number\")\n",
    "else:\n",
    "    print(\"Non-positive number\")"
   ]
  },
  {
   "cell_type": "markdown",
   "id": "74834337",
   "metadata": {},
   "source": [
    "### 3. Quick Exercises\n",
    "\n",
    "1. Predict the output:\n",
    "```python\n",
    "x = 8\n",
    "if x > 10:\n",
    "    print(\"Greater than 10\")\n",
    "else:\n",
    "    print(\"10 or less\")\n",
    "```\n",
    "\n"
   ]
  }
 ],
 "metadata": {
  "kernelspec": {
   "display_name": ".venv",
   "language": "python",
   "name": "python3"
  },
  "language_info": {
   "codemirror_mode": {
    "name": "ipython",
    "version": 3
   },
   "file_extension": ".py",
   "mimetype": "text/x-python",
   "name": "python",
   "nbconvert_exporter": "python",
   "pygments_lexer": "ipython3",
   "version": "3.11.9"
  }
 },
 "nbformat": 4,
 "nbformat_minor": 5
}
