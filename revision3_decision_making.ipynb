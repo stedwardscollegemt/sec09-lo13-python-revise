{
 "cells": [
  {
   "cell_type": "markdown",
   "id": "9bcfb47e",
   "metadata": {},
   "source": [
    "## Revision 3: Decision Making\n",
    "\n",
    "In this notebook we will **interpret decision statements (`if`, `if-else`)** and look into **nested decision statements** for Year 11 Python revision.\n",
    "\n",
    "---\n",
    "\n",
    "### 1. Decision Statements in Python\n",
    "\n",
    "Decision statements allow a program to make choices based on conditions.\n",
    "\n",
    "- `if` tests a condition and runs code if the condition is `True`.\n",
    "- `else` runs code if the `if` condition is `False`.\n",
    "- `elif` (else if) tests additional conditions if the previous ones were false.\n",
    "\n",
    "Syntax example:\n",
    "\n",
    "```python\n",
    "if condition:\n",
    "    # do something\n",
    "elif another_condition:\n",
    "    # do something else\n",
    "else:\n",
    "    # do something if all above are False"
   ]
  },
  {
   "cell_type": "code",
   "execution_count": 1,
   "id": "5d0649be",
   "metadata": {},
   "outputs": [
    {
     "name": "stdout",
     "output_type": "stream",
     "text": [
      "You are too young to vote.\n"
     ]
    }
   ],
   "source": [
    "age = 15\n",
    "if age >= 18:\n",
    "    print(\"You can vote.\")\n",
    "else:\n",
    "    print(\"You are too young to vote.\")"
   ]
  },
  {
   "cell_type": "code",
   "execution_count": 2,
   "id": "8e6e282b",
   "metadata": {},
   "outputs": [
    {
     "name": "stdout",
     "output_type": "stream",
     "text": [
      "Grade: B\n"
     ]
    }
   ],
   "source": [
    "score = 75\n",
    "\n",
    "if score >= 90:\n",
    "    print(\"Grade: A\")\n",
    "elif score >= 70:\n",
    "    print(\"Grade: B\")\n",
    "elif score >= 50:\n",
    "    print(\"Grade: C\")\n",
    "else:\n",
    "    print(\"Grade: F\")"
   ]
  },
  {
   "cell_type": "code",
   "execution_count": null,
   "id": "ac13c650",
   "metadata": {},
   "outputs": [],
   "source": [
    "# Practice simple decision making\n",
    "# create an integer variable called balance\n",
    "# if balance is greater than 0 then you have some money in your piggy bank\n",
    "\n",
    "\n"
   ]
  },
  {
   "cell_type": "markdown",
   "id": "8f2003a3",
   "metadata": {},
   "source": [
    "### 2. Nested Decision Statements\n",
    "\n",
    "Decision statements can be placed inside each other.\n",
    "\n",
    "Example:\n",
    "\n",
    "```python\n",
    "num = 10\n",
    "if num > 0:\n",
    "    if num % 2 == 0:\n",
    "        print(\"Positive even number\")\n",
    "    else:\n",
    "        print(\"Positive odd number\")\n",
    "else:\n",
    "    print(\"Non-positive number\")"
   ]
  },
  {
   "cell_type": "code",
   "execution_count": null,
   "id": "cd73f8ee",
   "metadata": {},
   "outputs": [],
   "source": [
    "# Practice copying nested if statements\n",
    "\n"
   ]
  },
  {
   "cell_type": "markdown",
   "id": "74834337",
   "metadata": {},
   "source": [
    "### 3. Quick Exercises\n",
    "\n",
    "1. Predict the output:\n",
    "```python\n",
    "x = 8\n",
    "if x > 10:\n",
    "    print(\"Greater than 10\")\n",
    "else:\n",
    "    print(\"10 or less\")\n",
    "```\n",
    "\n",
    "2. Predict the output:\n",
    "```python\n",
    "score = 85\n",
    "if score >= 90:\n",
    "    print(\"A\")\n",
    "elif score >= 80:\n",
    "    print(\"B\")\n",
    "else:\n",
    "    print(\"C or less\")\n",
    "```\n",
    "\n",
    "3. Predict the output:\n",
    "\n",
    "```python\n",
    "age = 30\n",
    "member = True\n",
    "\n",
    "if age > 18:\n",
    "    if member:\n",
    "        print(\"Ticket price is $12.\")\n",
    "    else:\n",
    "        print(\"Ticket price is $20.\")\n",
    "else:\n",
    "    if member:\n",
    "        print(\"Ticket price is $8.\")\n",
    "    else:\n",
    "        print(\"Ticket price is $10.\")\n",
    "```\n",
    "\n",
    "4. Write a program to check if a number is positive, negative, or zero.\n",
    "\n"
   ]
  },
  {
   "cell_type": "code",
   "execution_count": null,
   "id": "06cc797a",
   "metadata": {},
   "outputs": [],
   "source": [
    "# TODO: Code for exercise"
   ]
  },
  {
   "cell_type": "markdown",
   "id": "b4382e0f",
   "metadata": {},
   "source": [
    "### 4. Challenge\n",
    "\n",
    "Write a **nested** decision program that:  \n",
    "- Asks the user for a test score (0-100)  \n",
    "- Prints the grade: A (90+), B (80-89), C (70-79), D (60-69), F (below 60)"
   ]
  },
  {
   "cell_type": "code",
   "execution_count": null,
   "id": "c611fab9",
   "metadata": {},
   "outputs": [],
   "source": [
    "# TODO: Code for the challenge"
   ]
  }
 ],
 "metadata": {
  "kernelspec": {
   "display_name": ".venv",
   "language": "python",
   "name": "python3"
  },
  "language_info": {
   "codemirror_mode": {
    "name": "ipython",
    "version": 3
   },
   "file_extension": ".py",
   "mimetype": "text/x-python",
   "name": "python",
   "nbconvert_exporter": "python",
   "pygments_lexer": "ipython3",
   "version": "3.11.9"
  }
 },
 "nbformat": 4,
 "nbformat_minor": 5
}
